{
 "metadata": {
  "language_info": {
   "codemirror_mode": {
    "name": "ipython",
    "version": 3
   },
   "file_extension": ".py",
   "mimetype": "text/x-python",
   "name": "python",
   "nbconvert_exporter": "python",
   "pygments_lexer": "ipython3",
   "version": "3.8.3"
  },
  "orig_nbformat": 2,
  "kernelspec": {
   "name": "python383jvsc74a57bd055e70fe011e9c113bd50bf6016a6572c9ea2627b0654d216fef3044bd17027cd",
   "display_name": "Python 3.8.3  ('env': venv)"
  },
  "metadata": {
   "interpreter": {
    "hash": "55e70fe011e9c113bd50bf6016a6572c9ea2627b0654d216fef3044bd17027cd"
   }
  }
 },
 "nbformat": 4,
 "nbformat_minor": 2,
 "cells": [
  {
   "source": [
    "The purpose of this notebook is to get the head position and direction of the ferret for each stimulus presentation.\n",
    "\n",
    "The input data consists of two sources:\n",
    "(1) Stimulus metadata after temporal alignment to both video and neural recording systems\n",
    "(2) LED tracking data"
   ],
   "cell_type": "markdown",
   "metadata": {}
  },
  {
   "cell_type": "code",
   "execution_count": 1,
   "metadata": {},
   "outputs": [],
   "source": [
    "import matplotlib.pyplot as plt\n",
    "import matplotlib.image as mpimg\n",
    "import matplotlib.cm as cm\n",
    "import numpy as np\n",
    "import pandas as pd\n",
    "from pathlib import Path\n",
    "\n",
    "%matplotlib inline"
   ]
  },
  {
   "cell_type": "code",
   "execution_count": 2,
   "metadata": {},
   "outputs": [
    {
     "output_type": "stream",
     "name": "stdout",
     "text": [
      "(553, 28)\n0.00535\n"
     ]
    }
   ],
   "source": [
    "data_dir = Path('/home/stephen/Github/Speaker_Grid/data/F1901_Crumble_Squid/2021-05-27_Squid_15-57')\n",
    "\n",
    "stim_file = '2021-05-27T17-57-07_Stim_LED_MCS.csv'\n",
    "\n",
    "stim = pd.read_csv( str(data_dir / stim_file))\n",
    "\n",
    "print(stim.shape)\n",
    "\n",
    "spike_file = data_dir / 'spike_times' / '2021-05-27T17-56-11_SpikeTimes_2_C13.txt'\n",
    "spikes = np.loadtxt( spike_file, delimiter=',')\n",
    "\n",
    "print(spikes[0])"
   ]
  },
  {
   "source": [
    "### Get peri-stimulus histogram"
   ],
   "cell_type": "markdown",
   "metadata": {}
  },
  {
   "cell_type": "code",
   "execution_count": 3,
   "metadata": {},
   "outputs": [],
   "source": [
    "bin_width = 0.01\n",
    "bin_edges = np.arange(-0.1, 0.41, bin_width)\n",
    "spike_count = np.zeros((stim.shape[0], len(bin_edges)-1), dtype=np.int64)\n",
    "\n",
    "for idx, row  in stim.iterrows():\n",
    "\n",
    "    t_delta = spikes - row['MCS_Time']\n",
    "\n",
    "    spike_count[idx], _ = np.histogram(t_delta, bins=bin_edges)\n",
    "\n",
    "spike_rate = spike_count / bin_width\n"
   ]
  },
  {
   "cell_type": "code",
   "execution_count": 4,
   "metadata": {},
   "outputs": [
    {
     "output_type": "display_data",
     "data": {
      "text/plain": "<Figure size 432x288 with 1 Axes>",
      "image/svg+xml": "<?xml version=\"1.0\" encoding=\"utf-8\" standalone=\"no\"?>\n<!DOCTYPE svg PUBLIC \"-//W3C//DTD SVG 1.1//EN\"\n  \"http://www.w3.org/Graphics/SVG/1.1/DTD/svg11.dtd\">\n<svg height=\"262.19625pt\" version=\"1.1\" viewBox=\"0 0 382.603125 262.19625\" width=\"382.603125pt\" xmlns=\"http://www.w3.org/2000/svg\" xmlns:xlink=\"http://www.w3.org/1999/xlink\">\n <metadata>\n  <rdf:RDF xmlns:cc=\"http://creativecommons.org/ns#\" xmlns:dc=\"http://purl.org/dc/elements/1.1/\" xmlns:rdf=\"http://www.w3.org/1999/02/22-rdf-syntax-ns#\">\n   <cc:Work>\n    <dc:type rdf:resource=\"http://purl.org/dc/dcmitype/StillImage\"/>\n    <dc:date>2021-06-02T10:18:34.582962</dc:date>\n    <dc:format>image/svg+xml</dc:format>\n    <dc:creator>\n     <cc:Agent>\n      <dc:title>Matplotlib v3.4.2, https://matplotlib.org/</dc:title>\n     </cc:Agent>\n    </dc:creator>\n   </cc:Work>\n  </rdf:RDF>\n </metadata>\n <defs>\n  <style type=\"text/css\">*{stroke-linecap:butt;stroke-linejoin:round;}</style>\n </defs>\n <g id=\"figure_1\">\n  <g id=\"patch_1\">\n   <path d=\"M 0 262.19625 \nL 382.603125 262.19625 \nL 382.603125 0 \nL 0 0 \nz\n\" style=\"fill:none;\"/>\n  </g>\n  <g id=\"axes_1\">\n   <g id=\"patch_2\">\n    <path d=\"M 40.603125 224.64 \nL 375.403125 224.64 \nL 375.403125 7.2 \nL 40.603125 7.2 \nz\n\" style=\"fill:#ffffff;\"/>\n   </g>\n   <g id=\"matplotlib.axis_1\">\n    <g id=\"xtick_1\">\n     <g id=\"line2d_1\">\n      <defs>\n       <path d=\"M 0 0 \nL 0 3.5 \n\" id=\"mafe8f1b772\" style=\"stroke:#000000;stroke-width:0.8;\"/>\n      </defs>\n      <g>\n       <use style=\"stroke:#000000;stroke-width:0.8;\" x=\"52.715555\" xlink:href=\"#mafe8f1b772\" y=\"224.64\"/>\n      </g>\n     </g>\n     <g id=\"text_1\">\n      <!-- −0.1 -->\n      <g transform=\"translate(40.574149 239.238438)scale(0.1 -0.1)\">\n       <defs>\n        <path d=\"M 678 2272 \nL 4684 2272 \nL 4684 1741 \nL 678 1741 \nL 678 2272 \nz\n\" id=\"DejaVuSans-2212\" transform=\"scale(0.015625)\"/>\n        <path d=\"M 2034 4250 \nQ 1547 4250 1301 3770 \nQ 1056 3291 1056 2328 \nQ 1056 1369 1301 889 \nQ 1547 409 2034 409 \nQ 2525 409 2770 889 \nQ 3016 1369 3016 2328 \nQ 3016 3291 2770 3770 \nQ 2525 4250 2034 4250 \nz\nM 2034 4750 \nQ 2819 4750 3233 4129 \nQ 3647 3509 3647 2328 \nQ 3647 1150 3233 529 \nQ 2819 -91 2034 -91 \nQ 1250 -91 836 529 \nQ 422 1150 422 2328 \nQ 422 3509 836 4129 \nQ 1250 4750 2034 4750 \nz\n\" id=\"DejaVuSans-30\" transform=\"scale(0.015625)\"/>\n        <path d=\"M 684 794 \nL 1344 794 \nL 1344 0 \nL 684 0 \nL 684 794 \nz\n\" id=\"DejaVuSans-2e\" transform=\"scale(0.015625)\"/>\n        <path d=\"M 794 531 \nL 1825 531 \nL 1825 4091 \nL 703 3866 \nL 703 4441 \nL 1819 4666 \nL 2450 4666 \nL 2450 531 \nL 3481 531 \nL 3481 0 \nL 794 0 \nL 794 531 \nz\n\" id=\"DejaVuSans-31\" transform=\"scale(0.015625)\"/>\n       </defs>\n       <use xlink:href=\"#DejaVuSans-2212\"/>\n       <use x=\"83.789062\" xlink:href=\"#DejaVuSans-30\"/>\n       <use x=\"147.412109\" xlink:href=\"#DejaVuSans-2e\"/>\n       <use x=\"179.199219\" xlink:href=\"#DejaVuSans-31\"/>\n      </g>\n     </g>\n    </g>\n    <g id=\"xtick_2\">\n     <g id=\"line2d_2\">\n      <g>\n       <use style=\"stroke:#000000;stroke-width:0.8;\" x=\"114.830583\" xlink:href=\"#mafe8f1b772\" y=\"224.64\"/>\n      </g>\n     </g>\n     <g id=\"text_2\">\n      <!-- 0.0 -->\n      <g transform=\"translate(106.879021 239.238438)scale(0.1 -0.1)\">\n       <use xlink:href=\"#DejaVuSans-30\"/>\n       <use x=\"63.623047\" xlink:href=\"#DejaVuSans-2e\"/>\n       <use x=\"95.410156\" xlink:href=\"#DejaVuSans-30\"/>\n      </g>\n     </g>\n    </g>\n    <g id=\"xtick_3\">\n     <g id=\"line2d_3\">\n      <g>\n       <use style=\"stroke:#000000;stroke-width:0.8;\" x=\"176.945611\" xlink:href=\"#mafe8f1b772\" y=\"224.64\"/>\n      </g>\n     </g>\n     <g id=\"text_3\">\n      <!-- 0.1 -->\n      <g transform=\"translate(168.994049 239.238438)scale(0.1 -0.1)\">\n       <use xlink:href=\"#DejaVuSans-30\"/>\n       <use x=\"63.623047\" xlink:href=\"#DejaVuSans-2e\"/>\n       <use x=\"95.410156\" xlink:href=\"#DejaVuSans-31\"/>\n      </g>\n     </g>\n    </g>\n    <g id=\"xtick_4\">\n     <g id=\"line2d_4\">\n      <g>\n       <use style=\"stroke:#000000;stroke-width:0.8;\" x=\"239.060639\" xlink:href=\"#mafe8f1b772\" y=\"224.64\"/>\n      </g>\n     </g>\n     <g id=\"text_4\">\n      <!-- 0.2 -->\n      <g transform=\"translate(231.109076 239.238438)scale(0.1 -0.1)\">\n       <defs>\n        <path d=\"M 1228 531 \nL 3431 531 \nL 3431 0 \nL 469 0 \nL 469 531 \nQ 828 903 1448 1529 \nQ 2069 2156 2228 2338 \nQ 2531 2678 2651 2914 \nQ 2772 3150 2772 3378 \nQ 2772 3750 2511 3984 \nQ 2250 4219 1831 4219 \nQ 1534 4219 1204 4116 \nQ 875 4013 500 3803 \nL 500 4441 \nQ 881 4594 1212 4672 \nQ 1544 4750 1819 4750 \nQ 2544 4750 2975 4387 \nQ 3406 4025 3406 3419 \nQ 3406 3131 3298 2873 \nQ 3191 2616 2906 2266 \nQ 2828 2175 2409 1742 \nQ 1991 1309 1228 531 \nz\n\" id=\"DejaVuSans-32\" transform=\"scale(0.015625)\"/>\n       </defs>\n       <use xlink:href=\"#DejaVuSans-30\"/>\n       <use x=\"63.623047\" xlink:href=\"#DejaVuSans-2e\"/>\n       <use x=\"95.410156\" xlink:href=\"#DejaVuSans-32\"/>\n      </g>\n     </g>\n    </g>\n    <g id=\"xtick_5\">\n     <g id=\"line2d_5\">\n      <g>\n       <use style=\"stroke:#000000;stroke-width:0.8;\" x=\"301.175667\" xlink:href=\"#mafe8f1b772\" y=\"224.64\"/>\n      </g>\n     </g>\n     <g id=\"text_5\">\n      <!-- 0.3 -->\n      <g transform=\"translate(293.224104 239.238438)scale(0.1 -0.1)\">\n       <defs>\n        <path d=\"M 2597 2516 \nQ 3050 2419 3304 2112 \nQ 3559 1806 3559 1356 \nQ 3559 666 3084 287 \nQ 2609 -91 1734 -91 \nQ 1441 -91 1130 -33 \nQ 819 25 488 141 \nL 488 750 \nQ 750 597 1062 519 \nQ 1375 441 1716 441 \nQ 2309 441 2620 675 \nQ 2931 909 2931 1356 \nQ 2931 1769 2642 2001 \nQ 2353 2234 1838 2234 \nL 1294 2234 \nL 1294 2753 \nL 1863 2753 \nQ 2328 2753 2575 2939 \nQ 2822 3125 2822 3475 \nQ 2822 3834 2567 4026 \nQ 2313 4219 1838 4219 \nQ 1578 4219 1281 4162 \nQ 984 4106 628 3988 \nL 628 4550 \nQ 988 4650 1302 4700 \nQ 1616 4750 1894 4750 \nQ 2613 4750 3031 4423 \nQ 3450 4097 3450 3541 \nQ 3450 3153 3228 2886 \nQ 3006 2619 2597 2516 \nz\n\" id=\"DejaVuSans-33\" transform=\"scale(0.015625)\"/>\n       </defs>\n       <use xlink:href=\"#DejaVuSans-30\"/>\n       <use x=\"63.623047\" xlink:href=\"#DejaVuSans-2e\"/>\n       <use x=\"95.410156\" xlink:href=\"#DejaVuSans-33\"/>\n      </g>\n     </g>\n    </g>\n    <g id=\"xtick_6\">\n     <g id=\"line2d_6\">\n      <g>\n       <use style=\"stroke:#000000;stroke-width:0.8;\" x=\"363.290695\" xlink:href=\"#mafe8f1b772\" y=\"224.64\"/>\n      </g>\n     </g>\n     <g id=\"text_6\">\n      <!-- 0.4 -->\n      <g transform=\"translate(355.339132 239.238438)scale(0.1 -0.1)\">\n       <defs>\n        <path d=\"M 2419 4116 \nL 825 1625 \nL 2419 1625 \nL 2419 4116 \nz\nM 2253 4666 \nL 3047 4666 \nL 3047 1625 \nL 3713 1625 \nL 3713 1100 \nL 3047 1100 \nL 3047 0 \nL 2419 0 \nL 2419 1100 \nL 313 1100 \nL 313 1709 \nL 2253 4666 \nz\n\" id=\"DejaVuSans-34\" transform=\"scale(0.015625)\"/>\n       </defs>\n       <use xlink:href=\"#DejaVuSans-30\"/>\n       <use x=\"63.623047\" xlink:href=\"#DejaVuSans-2e\"/>\n       <use x=\"95.410156\" xlink:href=\"#DejaVuSans-34\"/>\n      </g>\n     </g>\n    </g>\n    <g id=\"text_7\">\n     <!-- Time -->\n     <g transform=\"translate(195.769531 252.916563)scale(0.1 -0.1)\">\n      <defs>\n       <path d=\"M -19 4666 \nL 3928 4666 \nL 3928 4134 \nL 2272 4134 \nL 2272 0 \nL 1638 0 \nL 1638 4134 \nL -19 4134 \nL -19 4666 \nz\n\" id=\"DejaVuSans-54\" transform=\"scale(0.015625)\"/>\n       <path d=\"M 603 3500 \nL 1178 3500 \nL 1178 0 \nL 603 0 \nL 603 3500 \nz\nM 603 4863 \nL 1178 4863 \nL 1178 4134 \nL 603 4134 \nL 603 4863 \nz\n\" id=\"DejaVuSans-69\" transform=\"scale(0.015625)\"/>\n       <path d=\"M 3328 2828 \nQ 3544 3216 3844 3400 \nQ 4144 3584 4550 3584 \nQ 5097 3584 5394 3201 \nQ 5691 2819 5691 2113 \nL 5691 0 \nL 5113 0 \nL 5113 2094 \nQ 5113 2597 4934 2840 \nQ 4756 3084 4391 3084 \nQ 3944 3084 3684 2787 \nQ 3425 2491 3425 1978 \nL 3425 0 \nL 2847 0 \nL 2847 2094 \nQ 2847 2600 2669 2842 \nQ 2491 3084 2119 3084 \nQ 1678 3084 1418 2786 \nQ 1159 2488 1159 1978 \nL 1159 0 \nL 581 0 \nL 581 3500 \nL 1159 3500 \nL 1159 2956 \nQ 1356 3278 1631 3431 \nQ 1906 3584 2284 3584 \nQ 2666 3584 2933 3390 \nQ 3200 3197 3328 2828 \nz\n\" id=\"DejaVuSans-6d\" transform=\"scale(0.015625)\"/>\n       <path d=\"M 3597 1894 \nL 3597 1613 \nL 953 1613 \nQ 991 1019 1311 708 \nQ 1631 397 2203 397 \nQ 2534 397 2845 478 \nQ 3156 559 3463 722 \nL 3463 178 \nQ 3153 47 2828 -22 \nQ 2503 -91 2169 -91 \nQ 1331 -91 842 396 \nQ 353 884 353 1716 \nQ 353 2575 817 3079 \nQ 1281 3584 2069 3584 \nQ 2775 3584 3186 3129 \nQ 3597 2675 3597 1894 \nz\nM 3022 2063 \nQ 3016 2534 2758 2815 \nQ 2500 3097 2075 3097 \nQ 1594 3097 1305 2825 \nQ 1016 2553 972 2059 \nL 3022 2063 \nz\n\" id=\"DejaVuSans-65\" transform=\"scale(0.015625)\"/>\n      </defs>\n      <use xlink:href=\"#DejaVuSans-54\"/>\n      <use x=\"57.958984\" xlink:href=\"#DejaVuSans-69\"/>\n      <use x=\"85.742188\" xlink:href=\"#DejaVuSans-6d\"/>\n      <use x=\"183.154297\" xlink:href=\"#DejaVuSans-65\"/>\n     </g>\n    </g>\n   </g>\n   <g id=\"matplotlib.axis_2\">\n    <g id=\"ytick_1\">\n     <g id=\"line2d_7\">\n      <defs>\n       <path d=\"M 0 0 \nL -3.5 0 \n\" id=\"me4309367c9\" style=\"stroke:#000000;stroke-width:0.8;\"/>\n      </defs>\n      <g>\n       <use style=\"stroke:#000000;stroke-width:0.8;\" x=\"40.603125\" xlink:href=\"#me4309367c9\" y=\"211.365861\"/>\n      </g>\n     </g>\n     <g id=\"text_8\">\n      <!-- 10 -->\n      <g transform=\"translate(20.878125 215.165079)scale(0.1 -0.1)\">\n       <use xlink:href=\"#DejaVuSans-31\"/>\n       <use x=\"63.623047\" xlink:href=\"#DejaVuSans-30\"/>\n      </g>\n     </g>\n    </g>\n    <g id=\"ytick_2\">\n     <g id=\"line2d_8\">\n      <g>\n       <use style=\"stroke:#000000;stroke-width:0.8;\" x=\"40.603125\" xlink:href=\"#me4309367c9\" y=\"175.989479\"/>\n      </g>\n     </g>\n     <g id=\"text_9\">\n      <!-- 20 -->\n      <g transform=\"translate(20.878125 179.788698)scale(0.1 -0.1)\">\n       <use xlink:href=\"#DejaVuSans-32\"/>\n       <use x=\"63.623047\" xlink:href=\"#DejaVuSans-30\"/>\n      </g>\n     </g>\n    </g>\n    <g id=\"ytick_3\">\n     <g id=\"line2d_9\">\n      <g>\n       <use style=\"stroke:#000000;stroke-width:0.8;\" x=\"40.603125\" xlink:href=\"#me4309367c9\" y=\"140.613098\"/>\n      </g>\n     </g>\n     <g id=\"text_10\">\n      <!-- 30 -->\n      <g transform=\"translate(20.878125 144.412317)scale(0.1 -0.1)\">\n       <use xlink:href=\"#DejaVuSans-33\"/>\n       <use x=\"63.623047\" xlink:href=\"#DejaVuSans-30\"/>\n      </g>\n     </g>\n    </g>\n    <g id=\"ytick_4\">\n     <g id=\"line2d_10\">\n      <g>\n       <use style=\"stroke:#000000;stroke-width:0.8;\" x=\"40.603125\" xlink:href=\"#me4309367c9\" y=\"105.236717\"/>\n      </g>\n     </g>\n     <g id=\"text_11\">\n      <!-- 40 -->\n      <g transform=\"translate(20.878125 109.035935)scale(0.1 -0.1)\">\n       <use xlink:href=\"#DejaVuSans-34\"/>\n       <use x=\"63.623047\" xlink:href=\"#DejaVuSans-30\"/>\n      </g>\n     </g>\n    </g>\n    <g id=\"ytick_5\">\n     <g id=\"line2d_11\">\n      <g>\n       <use style=\"stroke:#000000;stroke-width:0.8;\" x=\"40.603125\" xlink:href=\"#me4309367c9\" y=\"69.860335\"/>\n      </g>\n     </g>\n     <g id=\"text_12\">\n      <!-- 50 -->\n      <g transform=\"translate(20.878125 73.659554)scale(0.1 -0.1)\">\n       <defs>\n        <path d=\"M 691 4666 \nL 3169 4666 \nL 3169 4134 \nL 1269 4134 \nL 1269 2991 \nQ 1406 3038 1543 3061 \nQ 1681 3084 1819 3084 \nQ 2600 3084 3056 2656 \nQ 3513 2228 3513 1497 \nQ 3513 744 3044 326 \nQ 2575 -91 1722 -91 \nQ 1428 -91 1123 -41 \nQ 819 9 494 109 \nL 494 744 \nQ 775 591 1075 516 \nQ 1375 441 1709 441 \nQ 2250 441 2565 725 \nQ 2881 1009 2881 1497 \nQ 2881 1984 2565 2268 \nQ 2250 2553 1709 2553 \nQ 1456 2553 1204 2497 \nQ 953 2441 691 2322 \nL 691 4666 \nz\n\" id=\"DejaVuSans-35\" transform=\"scale(0.015625)\"/>\n       </defs>\n       <use xlink:href=\"#DejaVuSans-35\"/>\n       <use x=\"63.623047\" xlink:href=\"#DejaVuSans-30\"/>\n      </g>\n     </g>\n    </g>\n    <g id=\"ytick_6\">\n     <g id=\"line2d_12\">\n      <g>\n       <use style=\"stroke:#000000;stroke-width:0.8;\" x=\"40.603125\" xlink:href=\"#me4309367c9\" y=\"34.483954\"/>\n      </g>\n     </g>\n     <g id=\"text_13\">\n      <!-- 60 -->\n      <g transform=\"translate(20.878125 38.283173)scale(0.1 -0.1)\">\n       <defs>\n        <path d=\"M 2113 2584 \nQ 1688 2584 1439 2293 \nQ 1191 2003 1191 1497 \nQ 1191 994 1439 701 \nQ 1688 409 2113 409 \nQ 2538 409 2786 701 \nQ 3034 994 3034 1497 \nQ 3034 2003 2786 2293 \nQ 2538 2584 2113 2584 \nz\nM 3366 4563 \nL 3366 3988 \nQ 3128 4100 2886 4159 \nQ 2644 4219 2406 4219 \nQ 1781 4219 1451 3797 \nQ 1122 3375 1075 2522 \nQ 1259 2794 1537 2939 \nQ 1816 3084 2150 3084 \nQ 2853 3084 3261 2657 \nQ 3669 2231 3669 1497 \nQ 3669 778 3244 343 \nQ 2819 -91 2113 -91 \nQ 1303 -91 875 529 \nQ 447 1150 447 2328 \nQ 447 3434 972 4092 \nQ 1497 4750 2381 4750 \nQ 2619 4750 2861 4703 \nQ 3103 4656 3366 4563 \nz\n\" id=\"DejaVuSans-36\" transform=\"scale(0.015625)\"/>\n       </defs>\n       <use xlink:href=\"#DejaVuSans-36\"/>\n       <use x=\"63.623047\" xlink:href=\"#DejaVuSans-30\"/>\n      </g>\n     </g>\n    </g>\n    <g id=\"text_14\">\n     <!-- Spikes / s -->\n     <g transform=\"translate(14.798438 139.52)rotate(-90)scale(0.1 -0.1)\">\n      <defs>\n       <path d=\"M 3425 4513 \nL 3425 3897 \nQ 3066 4069 2747 4153 \nQ 2428 4238 2131 4238 \nQ 1616 4238 1336 4038 \nQ 1056 3838 1056 3469 \nQ 1056 3159 1242 3001 \nQ 1428 2844 1947 2747 \nL 2328 2669 \nQ 3034 2534 3370 2195 \nQ 3706 1856 3706 1288 \nQ 3706 609 3251 259 \nQ 2797 -91 1919 -91 \nQ 1588 -91 1214 -16 \nQ 841 59 441 206 \nL 441 856 \nQ 825 641 1194 531 \nQ 1563 422 1919 422 \nQ 2459 422 2753 634 \nQ 3047 847 3047 1241 \nQ 3047 1584 2836 1778 \nQ 2625 1972 2144 2069 \nL 1759 2144 \nQ 1053 2284 737 2584 \nQ 422 2884 422 3419 \nQ 422 4038 858 4394 \nQ 1294 4750 2059 4750 \nQ 2388 4750 2728 4690 \nQ 3069 4631 3425 4513 \nz\n\" id=\"DejaVuSans-53\" transform=\"scale(0.015625)\"/>\n       <path d=\"M 1159 525 \nL 1159 -1331 \nL 581 -1331 \nL 581 3500 \nL 1159 3500 \nL 1159 2969 \nQ 1341 3281 1617 3432 \nQ 1894 3584 2278 3584 \nQ 2916 3584 3314 3078 \nQ 3713 2572 3713 1747 \nQ 3713 922 3314 415 \nQ 2916 -91 2278 -91 \nQ 1894 -91 1617 61 \nQ 1341 213 1159 525 \nz\nM 3116 1747 \nQ 3116 2381 2855 2742 \nQ 2594 3103 2138 3103 \nQ 1681 3103 1420 2742 \nQ 1159 2381 1159 1747 \nQ 1159 1113 1420 752 \nQ 1681 391 2138 391 \nQ 2594 391 2855 752 \nQ 3116 1113 3116 1747 \nz\n\" id=\"DejaVuSans-70\" transform=\"scale(0.015625)\"/>\n       <path d=\"M 581 4863 \nL 1159 4863 \nL 1159 1991 \nL 2875 3500 \nL 3609 3500 \nL 1753 1863 \nL 3688 0 \nL 2938 0 \nL 1159 1709 \nL 1159 0 \nL 581 0 \nL 581 4863 \nz\n\" id=\"DejaVuSans-6b\" transform=\"scale(0.015625)\"/>\n       <path d=\"M 2834 3397 \nL 2834 2853 \nQ 2591 2978 2328 3040 \nQ 2066 3103 1784 3103 \nQ 1356 3103 1142 2972 \nQ 928 2841 928 2578 \nQ 928 2378 1081 2264 \nQ 1234 2150 1697 2047 \nL 1894 2003 \nQ 2506 1872 2764 1633 \nQ 3022 1394 3022 966 \nQ 3022 478 2636 193 \nQ 2250 -91 1575 -91 \nQ 1294 -91 989 -36 \nQ 684 19 347 128 \nL 347 722 \nQ 666 556 975 473 \nQ 1284 391 1588 391 \nQ 1994 391 2212 530 \nQ 2431 669 2431 922 \nQ 2431 1156 2273 1281 \nQ 2116 1406 1581 1522 \nL 1381 1569 \nQ 847 1681 609 1914 \nQ 372 2147 372 2553 \nQ 372 3047 722 3315 \nQ 1072 3584 1716 3584 \nQ 2034 3584 2315 3537 \nQ 2597 3491 2834 3397 \nz\n\" id=\"DejaVuSans-73\" transform=\"scale(0.015625)\"/>\n       <path id=\"DejaVuSans-20\" transform=\"scale(0.015625)\"/>\n       <path d=\"M 1625 4666 \nL 2156 4666 \nL 531 -594 \nL 0 -594 \nL 1625 4666 \nz\n\" id=\"DejaVuSans-2f\" transform=\"scale(0.015625)\"/>\n      </defs>\n      <use xlink:href=\"#DejaVuSans-53\"/>\n      <use x=\"63.476562\" xlink:href=\"#DejaVuSans-70\"/>\n      <use x=\"126.953125\" xlink:href=\"#DejaVuSans-69\"/>\n      <use x=\"154.736328\" xlink:href=\"#DejaVuSans-6b\"/>\n      <use x=\"209.021484\" xlink:href=\"#DejaVuSans-65\"/>\n      <use x=\"270.544922\" xlink:href=\"#DejaVuSans-73\"/>\n      <use x=\"322.644531\" xlink:href=\"#DejaVuSans-20\"/>\n      <use x=\"354.431641\" xlink:href=\"#DejaVuSans-2f\"/>\n      <use x=\"388.123047\" xlink:href=\"#DejaVuSans-20\"/>\n      <use x=\"419.910156\" xlink:href=\"#DejaVuSans-73\"/>\n     </g>\n    </g>\n   </g>\n   <g id=\"line2d_13\">\n    <path clip-path=\"url(#p37ab101518)\" d=\"M 55.821307 194.285402 \nL 62.03281 200.682577 \nL 68.244312 212.837211 \nL 74.455815 207.71947 \nL 80.667318 207.079753 \nL 86.878821 201.962012 \nL 93.090324 193.005966 \nL 99.301826 214.756364 \nL 105.513329 200.682577 \nL 111.724832 196.204554 \nL 117.936335 198.123707 \nL 124.147837 17.083636 \nL 130.35934 36.275163 \nL 136.570843 171.895287 \nL 142.782346 207.71947 \nL 148.993849 202.60173 \nL 155.205351 200.04286 \nL 161.416854 201.962012 \nL 167.628357 191.726531 \nL 173.83986 184.689638 \nL 180.051362 196.844272 \nL 186.262865 196.204554 \nL 192.474368 187.888226 \nL 198.685871 196.844272 \nL 204.897374 199.403142 \nL 211.108876 196.204554 \nL 217.320379 175.093875 \nL 223.531882 187.248508 \nL 229.743385 188.527944 \nL 235.954888 194.925119 \nL 242.16639 202.60173 \nL 248.377893 181.49105 \nL 254.589396 195.564837 \nL 260.800899 194.285402 \nL 267.012401 192.366249 \nL 273.223904 188.527944 \nL 279.435407 189.167661 \nL 285.64691 187.248508 \nL 291.858413 193.005966 \nL 298.069915 199.403142 \nL 304.281418 208.998906 \nL 310.492921 196.844272 \nL 316.704424 194.925119 \nL 322.915926 200.04286 \nL 329.127429 198.123707 \nL 335.338932 193.005966 \nL 341.550435 185.329356 \nL 347.761938 211.557776 \nL 353.97344 194.925119 \nL 360.184943 200.682577 \n\" style=\"fill:none;stroke:#1f77b4;stroke-linecap:square;stroke-width:1.5;\"/>\n   </g>\n   <g id=\"patch_3\">\n    <path d=\"M 40.603125 224.64 \nL 40.603125 7.2 \n\" style=\"fill:none;stroke:#000000;stroke-linecap:square;stroke-linejoin:miter;stroke-width:0.8;\"/>\n   </g>\n   <g id=\"patch_4\">\n    <path d=\"M 375.403125 224.64 \nL 375.403125 7.2 \n\" style=\"fill:none;stroke:#000000;stroke-linecap:square;stroke-linejoin:miter;stroke-width:0.8;\"/>\n   </g>\n   <g id=\"patch_5\">\n    <path d=\"M 40.603125 224.64 \nL 375.403125 224.64 \n\" style=\"fill:none;stroke:#000000;stroke-linecap:square;stroke-linejoin:miter;stroke-width:0.8;\"/>\n   </g>\n   <g id=\"patch_6\">\n    <path d=\"M 40.603125 7.2 \nL 375.403125 7.2 \n\" style=\"fill:none;stroke:#000000;stroke-linecap:square;stroke-linejoin:miter;stroke-width:0.8;\"/>\n   </g>\n  </g>\n </g>\n <defs>\n  <clipPath id=\"p37ab101518\">\n   <rect height=\"217.44\" width=\"334.8\" x=\"40.603125\" y=\"7.2\"/>\n  </clipPath>\n </defs>\n</svg>\n",
      "image/png": "[encoded data removed]"
     },
     "metadata": {
      "needs_background": "light"
     }
    }
   ],
   "source": [
    "mean_sr = np.mean(spike_rate, axis=0)\n",
    "bin_centers = bin_edges[0:-1] + (bin_width/2)\n",
    "\n",
    "\n",
    "fig, ax = plt.subplots(1,1)\n",
    "ax.plot(bin_centers, mean_sr)\n",
    "ax.set_xlabel('Time')\n",
    "ax.set_ylabel('Spikes / s')\n",
    "plt.show()"
   ]
  },
  {
   "source": [
    "def get_firing_rate_for_stim(x):\n",
    "\n",
    "    t_delta = spikes - x\n",
    "\n"
   ],
   "cell_type": "code",
   "metadata": {},
   "execution_count": 5,
   "outputs": [
    {
     "output_type": "error",
     "ename": "SyntaxError",
     "evalue": "invalid syntax (<ipython-input-5-e56b4cbe9080>, line 2)",
     "traceback": [
      "\u001b[0;36m  File \u001b[0;32m\"<ipython-input-5-e56b4cbe9080>\"\u001b[0;36m, line \u001b[0;32m2\u001b[0m\n\u001b[0;31m    Calculate head position as center between red and blue LEDs - this is limited because of the poor detection of the red LED and could be improved using only the signal from the blue LED, but since we care most about head direction and need both LEDs to calculate head angle, we'll stick with it\u001b[0m\n\u001b[0m              ^\u001b[0m\n\u001b[0;31mSyntaxError\u001b[0m\u001b[0;31m:\u001b[0m invalid syntax\n"
     ]
    }
   ]
  },
  {
   "source": [
    "Get head direction - here we're assuming that the red LED is on the right side of the head, and the blue LED is on the left side, such that the vector between them represents that interaural axis. In reality, there is a slight rotation in the vector that offsets it from the interaural axis, but we're ignoring that to develop the analysis quickly (and the 2D solution to this problem is inherantly bad anyway)"
   ],
   "cell_type": "markdown",
   "metadata": {}
  },
  {
   "source": [
    "# TO DO\n",
    "\n",
    "### Head Stim Angles\n",
    "\n",
    "Something we need to add is the relationship between the head location and stimulus location. However this requires a bit more information than we currently have, because stimulus locations are known in the real world (e.g. in measurements in cm relative to the grid) whereas LED positions are known only in terms of their position relative to the camera, in pixel values. \n",
    "\n",
    "We therefore need some form of calibration, either by mapping LED positions into the world (using some knowledge about the distance of grid features in the image), or by knowing the pixel positions of speakers. I'm going to map the centre positions of each speaker location to make the "
   ],
   "cell_type": "markdown",
   "metadata": {}
  },
  {
   "cell_type": "code",
   "execution_count": null,
   "metadata": {},
   "outputs": [],
   "source": [
    "# Compute head angle in the arena\n",
    "join_data['blue_zero_x'] = join_data['blue_x'] - join_data['head_x']\n",
    "join_data['blue_zero_y'] = join_data['blue_y'] - join_data['head_y']\n",
    "\n",
    "offset = -(np.pi/2)\n",
    "join_data['head_angle'] = np.arctan2(join_data['blue_zero_y'], join_data['blue_zero_x']) + offset\n",
    "\n",
    "def wrap_to_pi(x):\n",
    "    if x < -np.pi:\n",
    "        x += (np.pi * 2)\n",
    "    elif x > np.pi:\n",
    "        x += -(np.pi * 2)\n",
    "    return x\n",
    "\n",
    "join_data['head_angle'].apply(wrap_to_pi)\n",
    "\n",
    "join_data.dropna(inplace=True)\n",
    "join_data.reset_index(inplace=True)"
   ]
  },
  {
   "cell_type": "code",
   "execution_count": null,
   "metadata": {},
   "outputs": [],
   "source": [
    "# Load speaker positions\n",
    "speaker_layout = '/home/stephen/Github/Speaker_Grid/metadata/Speaker_grid_layout_2021_05_21.csv'\n",
    "\n",
    "spk = pd.read_csv(speaker_layout)\n",
    "spk = spk[['matlab_chan','2021_05_31_PixLoc_Corrected_x','2021_05_31_PixLoc_Corrected_y']]\n",
    "\n",
    "spk.dropna(inplace=True)\n",
    "spk.rename(columns={'matlab_chan':'Speaker','2021_05_31_PixLoc_Corrected_x':'speak_xpix','2021_05_31_PixLoc_Corrected_y':'speak_ypix'}, inplace=True)\n",
    "\n",
    "# Merge with stimulus data\n",
    "hs_data =  pd.merge(join_data, spk, on='Speaker')\n"
   ]
  },
  {
   "source": [
    "Now we get the vector from head to stimulus (h2s = \"head to stimulus\" or \"head to speaker\")"
   ],
   "cell_type": "markdown",
   "metadata": {}
  },
  {
   "cell_type": "code",
   "execution_count": null,
   "metadata": {},
   "outputs": [],
   "source": [
    "hs_data['h2s_x'] = hs_data['speak_xpix'] - hs_data['head_x']\n",
    "hs_data['h2s_y'] = hs_data['speak_ypix'] - hs_data['head_y']\n",
    "\n",
    "hs_data['h2s_distance'] = np.sqrt((hs_data['h2s_y'] ** 2) +  (hs_data['h2s_x']**2))\n",
    "\n",
    "hs_data['h2s_theta'] = np.arctan2(hs_data['h2s_y'], hs_data['h2s_x']) - hs_data['head_angle']\n",
    "hs_data['h2s_theta'] = hs_data['h2s_theta'].apply(wrap_to_pi)\n",
    "\n",
    "hs_data['h2s_x'] = hs_data['h2s_distance'] * np.cos(hs_data['h2s_theta'])  \n",
    "hs_data['h2s_y'] = hs_data['h2s_distance'] * np.sin(hs_data['h2s_theta'])  \n",
    "\n",
    "hs_data.head(n=3)\n"
   ]
  },
  {
   "source": [
    "Finally we save the data for use with neural analysis"
   ],
   "cell_type": "markdown",
   "metadata": {}
  },
  {
   "cell_type": "code",
   "execution_count": null,
   "metadata": {},
   "outputs": [],
   "source": [
    "save_file = stim_file.replace('StimData_MCSVidAlign', 'Stim_LED_MCS')\n",
    "hs_data.to_csv( str(data_dir / save_file))"
   ]
  },
  {
   "source": [
    "## Visualization\n",
    "\n",
    "### Fig. 1(A) - Annotated Frame"
   ],
   "cell_type": "markdown",
   "metadata": {}
  },
  {
   "cell_type": "code",
   "execution_count": null,
   "metadata": {},
   "outputs": [],
   "source": [
    "# Draw an example\n",
    "idx = 100\n",
    "\n",
    "plt.rcParams['figure.figsize'] = [16, 6]\n",
    "fig, axs = plt.subplots(1,1)\n",
    "\n",
    "# Plot positions in image\n",
    "axs[0].scatter(hs_data['head_x'][idx], hs_data['head_y'][idx],c='k')\n",
    "axs[0].scatter(hs_data['blue_x'][idx], hs_data['blue_y'][idx],c='b')\n",
    "axs[0].scatter(hs_data['red_x'][idx], hs_data['red_y'][idx],c='r')\n",
    "axs[0].scatter(hs_data['speak_xpix'][idx], hs_data['speak_ypix'][idx],c='#009900')\n",
    "\n",
    "axs[0].set_xlim(0, 640)\n",
    "axs[0].set_ylim(0, 480)\n",
    "axs[0].set_aspect(480/640)\n",
    "axs[0].set_title(f'head angle = {hs_data.head_angle[idx]:.3f}\\nhead-to-stim_angle:{hs_data.h2s_theta[idx]:.3f}\\nDistance:{hs_data.h2s_distance[idx]:.1f}px')\n",
    "\n",
    "# Plot in head-centred coordinates\n",
    "def pol2cart(rho, theta):\n",
    "    x = rho * np.cos(theta)  \n",
    "    y = rho * np.sin(theta)  \n",
    "    return (x, y)\n",
    "\n",
    "spk_pos = pol2cart(hs_data['h2s_distance'][idx], hs_data['h2s_theta'][idx])\n",
    "\n",
    "\n",
    "axs[1].scatter(hs_data['blue_zero_x'][idx], hs_data['blue_zero_y'][idx],c='b')\n",
    "axs[1].scatter(hs_data['h2s_x'][idx], hs_data['h2s_y'][idx],c='#009900')\n",
    "\n",
    "axs[1].plot([0, hs_data['h2s_x'][idx]], [0, hs_data['h2s_y'][idx]], c='#99FF99', linestyle='--')\n",
    "\n",
    "# cmap = cm.get_cmap('RdYlBu')\n",
    "# for phi in np.linspace(-np.pi, np.pi, 13):\n",
    "#     x = rho * np.cos(phi)\n",
    "#     y = rho * np.sin(phi)\n",
    "#     c = (phi + np.pi) / (2 * np.pi)\n",
    "\n",
    "#     axs[1].plot([0, x], [0, y], c=cmap(c), linestyle='--')\n",
    "    # axs[1].text(x, y, f'{phi:.3f}')\n",
    "    \n",
    "# Plot vector along midline of head\n",
    "rho = 10\n",
    "x = rho * np.cos(hs_data['head_angle'][idx])  \n",
    "y = rho * np.sin(hs_data['head_angle'][idx])  \n",
    "\n",
    "axs[0].plot([0, x]+hs_data['head_x'][idx], [0, y]+hs_data['head_y'][idx], c='k', linewidth=2)\n",
    "axs[1].plot([0, x], [0, y], c='k', linewidth=2)\n",
    "\n",
    "axs[1].set_aspect('equal')\n",
    "plt.show()"
   ]
  },
  {
   "cell_type": "code",
   "execution_count": null,
   "metadata": {},
   "outputs": [],
   "source": [
    "# Distribution of speaker positions relative to head\n",
    "fig, ax = plt.subplots(1,1)\n",
    "ax.scatter(hs_data['h2s_x'], hs_data['h2s_y'], c=hs_data['Speaker'], cmap=cm.Accent)\n",
    "ax.set_aspect(1)"
   ]
  },
  {
   "cell_type": "code",
   "execution_count": null,
   "metadata": {},
   "outputs": [],
   "source": [
    "sample_frame = 4405\n",
    "plt.rcParams['figure.figsize'] = [16, 12]\n",
    "\n",
    "# Corrected frame\n",
    "im_path = Path('/home/stephen/Github/Speaker_Grid/data/F1901_Crumble_Squid/2021-05-27_Squid_15-57/example_images_corrected/')\n",
    "im_file = f\"frame{sample_frame:06d}.png\"\n",
    "\n",
    "img = mpimg.imread(str(im_path / im_file))\n",
    "imgplot = plt.imshow(img)\n",
    "\n",
    "# LED positions obtained from corrected image\n",
    "sample_data = join_data[join_data['closest_frame'] == sample_frame]\n",
    "plt.scatter(sample_data['blue_x'],sample_data['blue_y'], s=1, edgecolors='#6FBAFC', facecolors='none')\n",
    "plt.scatter(sample_data['red_x'],sample_data['red_y'], s=1, edgecolors='#FC6F6F', facecolors='none')\n",
    "\n",
    "# Speaker positions from corrected image\n",
    "speaker_layout = '/home/stephen/Github/Speaker_Grid/metadata/Speaker_grid_layout_2021_05_21.csv'\n",
    "\n",
    "spk = pd.read_csv(speaker_layout)\n",
    "spk.dropna(inplace=True)\n",
    "\n",
    "plt.scatter(spk['2021_05_31_PixLoc_Corrected_x'],spk['2021_05_31_PixLoc_Corrected_y'],c='#FFF300', s=1)\n",
    "\n",
    "# Label Speaker being played\n",
    "active_speaker = pd.merge(sample_data, spk, left_on='Speaker', right_on='matlab_chan')\n",
    "\n",
    "plt.scatter(active_speaker['2021_05_31_PixLoc_Corrected_x'], active_speaker['2021_05_31_PixLoc_Corrected_y'], edgecolors='#FFF388', s=100, facecolors='none')"
   ]
  },
  {
   "cell_type": "code",
   "execution_count": null,
   "metadata": {},
   "outputs": [],
   "source": [
    "plt_window = (-40, 40)\n",
    "\n",
    "# # Filter image with laplacian to make features visible\n",
    "# gray = cv2.cvtColor(img, cv2.COLOR_BGR2GRAY)\n",
    "# gray = cv2.GaussianBlur(gray,(3,3),0)\n",
    "# laplacian = cv2.Laplacian(gray, cv2.CV_64F)\n",
    "\n",
    "\n",
    "# Replot everything from above, but with the intention of zooming in\n",
    "zoom_plt = plt.imshow(img)\n",
    "plt.scatter(sample_data['blue_x'],sample_data['blue_y'], s=1, edgecolors='#6FBAFC', facecolors='none')\n",
    "plt.scatter(sample_data['red_x'],sample_data['red_y'], s=1, edgecolors='#FC6F6F', facecolors='none')\n",
    "plt.scatter(spk['2021_05_31_PixLoc_Corrected_x'],spk['2021_05_31_PixLoc_Corrected_y'],c='#FFF300', s=1)\n",
    "\n",
    "x_min = sample_data[['blue_x', 'red_x']].to_numpy().min() + plt_window[0]\n",
    "x_max = sample_data[['blue_x', 'red_x']].to_numpy().max() + plt_window[1]\n",
    "y_min = sample_data[['blue_y', 'red_y']].to_numpy().min() + plt_window[0]\n",
    "y_max = sample_data[['blue_y', 'red_y']].to_numpy().max() + plt_window[1]\n",
    "\n",
    "plt.xlim(x_min, x_max)\n",
    "plt.ylim(y_min, y_max)\n"
   ]
  },
  {
   "cell_type": "code",
   "execution_count": null,
   "metadata": {},
   "outputs": [],
   "source": [
    "\n",
    "\n",
    "active_speaker\n"
   ]
  },
  {
   "cell_type": "code",
   "execution_count": null,
   "metadata": {},
   "outputs": [],
   "source": []
  }
 ]
}