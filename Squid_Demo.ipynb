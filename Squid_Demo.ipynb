{
 "metadata": {
  "language_info": {
   "codemirror_mode": {
    "name": "ipython",
    "version": 3
   },
   "file_extension": ".py",
   "mimetype": "text/x-python",
   "name": "python",
   "nbconvert_exporter": "python",
   "pygments_lexer": "ipython3",
   "version": "3.8.3"
  },
  "orig_nbformat": 2,
  "kernelspec": {
   "name": "python383jvsc74a57bd055e70fe011e9c113bd50bf6016a6572c9ea2627b0654d216fef3044bd17027cd",
   "display_name": "Python 3.8.3  ('env': venv)"
  },
  "metadata": {
   "interpreter": {
    "hash": "55e70fe011e9c113bd50bf6016a6572c9ea2627b0654d216fef3044bd17027cd"
   }
  }
 },
 "nbformat": 4,
 "nbformat_minor": 2,
 "cells": [
  {
   "source": [
    "The purpose of this notebook is to get the head position and direction of the ferret for each stimulus presentation.\n",
    "\n",
    "The input data consists of two sources:\n",
    "(1) Stimulus metadata after temporal alignment to both video and neural recording systems\n",
    "(2) LED tracking data"
   ],
   "cell_type": "markdown",
   "metadata": {}
  },
  {
   "cell_type": "code",
   "execution_count": 1,
   "metadata": {},
   "outputs": [],
   "source": [
    "import numpy as np\n",
    "import pandas as pd\n",
    "from pathlib import Path"
   ]
  },
  {
   "cell_type": "code",
   "execution_count": 7,
   "metadata": {},
   "outputs": [
    {
     "output_type": "stream",
     "name": "stdout",
     "text": [
      "(829, 10)\n(18345, 14)\n"
     ]
    }
   ],
   "source": [
    "data_dir = Path('/home/stephen/Github/Speaker_Grid/data/F1901_Crumble_Squid/2021-05-27_Squid_15-57')\n",
    "\n",
    "stim_file = '2021-05-27T17-57-07_StimData_MCSVidAlign.csv'\n",
    "tracking_file = '2021-05-27_SquidVid_17_56_08.csv'\n",
    "\n",
    "stim = pd.read_csv( str(data_dir / stim_file))\n",
    "\n",
    "print(stim.shape)\n",
    "\n",
    "LEDs = pd.read_csv( str(data_dir / tracking_file))\n",
    "\n",
    "print(LEDs.shape)"
   ]
  },
  {
   "cell_type": "code",
   "execution_count": 11,
   "metadata": {},
   "outputs": [
    {
     "output_type": "stream",
     "name": "stdout",
     "text": [
      "(829, 24)\n"
     ]
    }
   ],
   "source": [
    "join_data = pd.merge( stim, LEDs, left_on='closest_frame', right_index=True)\n",
    "\n",
    "print(join_data.shape)"
   ]
  },
  {
   "source": [
    "### Tracking data: Problematic positions\n",
    "\n",
    "We know that when the LEDs go out of view, the tracking code returns ridiculous values. Here we replace anything that isn't sensible with nans"
   ],
   "cell_type": "markdown",
   "metadata": {}
  },
  {
   "cell_type": "code",
   "execution_count": 17,
   "metadata": {},
   "outputs": [],
   "source": [
    "\n",
    "\n",
    "join_data.loc[join_data['red_x'] < 150, 'red_x'] = np.nan\n"
   ]
  },
  {
   "cell_type": "code",
   "execution_count": 18,
   "metadata": {},
   "outputs": [],
   "source": [
    "join_data['head_x'] = (join_data['blue_x'] + join_data['red_x']) / 2"
   ]
  },
  {
   "cell_type": "code",
   "execution_count": 19,
   "metadata": {},
   "outputs": [
    {
     "output_type": "execute_result",
     "data": {
      "text/plain": [
       "         head_x      blue_x        red_x\n",
       "0    323.310369  317.981450   328.639288\n",
       "1    324.682402  318.601083   330.763721\n",
       "2    324.526259  318.309560   330.742959\n",
       "3    324.755314  318.678372   330.832257\n",
       "4    453.681295  317.878278   589.484312\n",
       "5   1646.358905  317.890528  2974.827282\n",
       "6    618.163383  317.902911   918.423855\n",
       "7    323.018656  317.811995   328.225318\n",
       "8    517.283159  317.107952   717.458365\n",
       "9    324.713919  318.552258   330.875581\n",
       "10   467.663353  317.645925   617.680781\n",
       "11   453.967420  318.025884   589.908956\n",
       "12   323.280576  318.531211   328.029940\n",
       "13   452.448415  318.827887   586.068944\n",
       "14   622.991727  607.046582   638.936872\n",
       "15  1473.250560  209.382093  2737.119028\n",
       "16   607.551848  607.637535   607.466161\n",
       "17   611.473877  606.920676   616.027077\n",
       "18          NaN  320.500000          NaN\n",
       "19   323.116616  318.106745   328.126488"
      ],
      "text/html": "<div>\n<style scoped>\n    .dataframe tbody tr th:only-of-type {\n        vertical-align: middle;\n    }\n\n    .dataframe tbody tr th {\n        vertical-align: top;\n    }\n\n    .dataframe thead th {\n        text-align: right;\n    }\n</style>\n<table border=\"1\" class=\"dataframe\">\n  <thead>\n    <tr style=\"text-align: right;\">\n      <th></th>\n      <th>head_x</th>\n      <th>blue_x</th>\n      <th>red_x</th>\n    </tr>\n  </thead>\n  <tbody>\n    <tr>\n      <th>0</th>\n      <td>323.310369</td>\n      <td>317.981450</td>\n      <td>328.639288</td>\n    </tr>\n    <tr>\n      <th>1</th>\n      <td>324.682402</td>\n      <td>318.601083</td>\n      <td>330.763721</td>\n    </tr>\n    <tr>\n      <th>2</th>\n      <td>324.526259</td>\n      <td>318.309560</td>\n      <td>330.742959</td>\n    </tr>\n    <tr>\n      <th>3</th>\n      <td>324.755314</td>\n      <td>318.678372</td>\n      <td>330.832257</td>\n    </tr>\n    <tr>\n      <th>4</th>\n      <td>453.681295</td>\n      <td>317.878278</td>\n      <td>589.484312</td>\n    </tr>\n    <tr>\n      <th>5</th>\n      <td>1646.358905</td>\n      <td>317.890528</td>\n      <td>2974.827282</td>\n    </tr>\n    <tr>\n      <th>6</th>\n      <td>618.163383</td>\n      <td>317.902911</td>\n      <td>918.423855</td>\n    </tr>\n    <tr>\n      <th>7</th>\n      <td>323.018656</td>\n      <td>317.811995</td>\n      <td>328.225318</td>\n    </tr>\n    <tr>\n      <th>8</th>\n      <td>517.283159</td>\n      <td>317.107952</td>\n      <td>717.458365</td>\n    </tr>\n    <tr>\n      <th>9</th>\n      <td>324.713919</td>\n      <td>318.552258</td>\n      <td>330.875581</td>\n    </tr>\n    <tr>\n      <th>10</th>\n      <td>467.663353</td>\n      <td>317.645925</td>\n      <td>617.680781</td>\n    </tr>\n    <tr>\n      <th>11</th>\n      <td>453.967420</td>\n      <td>318.025884</td>\n      <td>589.908956</td>\n    </tr>\n    <tr>\n      <th>12</th>\n      <td>323.280576</td>\n      <td>318.531211</td>\n      <td>328.029940</td>\n    </tr>\n    <tr>\n      <th>13</th>\n      <td>452.448415</td>\n      <td>318.827887</td>\n      <td>586.068944</td>\n    </tr>\n    <tr>\n      <th>14</th>\n      <td>622.991727</td>\n      <td>607.046582</td>\n      <td>638.936872</td>\n    </tr>\n    <tr>\n      <th>15</th>\n      <td>1473.250560</td>\n      <td>209.382093</td>\n      <td>2737.119028</td>\n    </tr>\n    <tr>\n      <th>16</th>\n      <td>607.551848</td>\n      <td>607.637535</td>\n      <td>607.466161</td>\n    </tr>\n    <tr>\n      <th>17</th>\n      <td>611.473877</td>\n      <td>606.920676</td>\n      <td>616.027077</td>\n    </tr>\n    <tr>\n      <th>18</th>\n      <td>NaN</td>\n      <td>320.500000</td>\n      <td>NaN</td>\n    </tr>\n    <tr>\n      <th>19</th>\n      <td>323.116616</td>\n      <td>318.106745</td>\n      <td>328.126488</td>\n    </tr>\n  </tbody>\n</table>\n</div>"
     },
     "metadata": {},
     "execution_count": 19
    }
   ],
   "source": [
    "join_data[['head_x','blue_x','red_x']].head(n=20)\n"
   ]
  },
  {
   "cell_type": "code",
   "execution_count": null,
   "metadata": {},
   "outputs": [],
   "source": []
  }
 ]
}