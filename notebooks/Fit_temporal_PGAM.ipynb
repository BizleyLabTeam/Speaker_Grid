{
 "cells": [
  {
   "cell_type": "markdown",
   "id": "51190415",
   "metadata": {},
   "source": [
    "# Standardizing PGAM fits\n",
    "--------------------------------------\n",
    "\n",
    "In this notebook we propose a pipeline for fitting PGAMs with standard input and output formats. The procedure has the following advantages:\n",
    "\n",
    "1. It requires minimal coding (formatting the input data in a standard format)\n",
    "2. The output fomat is easily exportable in MATLAB\n",
    "3. The pipeline is comppatible with the PGAM docker image\n",
    "4. The pipleine can be easily parallelized for HPC usage (singularity containers)\n",
    "\n",
    "\n",
    "## Table of contents\n",
    "* [Standard input format](#standard-input-format)\n",
    "    * [Neural & behavioral inputs](#inputs)\n",
    "    * [Configuration files](#configuration-files)\n",
    "* [Example with synthetic data](#example-with-synthetic-data)\n",
    "    * [Create and save an example configuration file](#create-and-save-conf)\n",
    "    * [Fittng the model](#fitting-model)\n",
    "        * [List the fits by experiment, condition, neuron, and model configuration](#fit-list)\n",
    "        * [Load inputs, fit and postprocess](#load-fit-save)\n",
    "* [Fit via docker](#docker)\n",
    "    * [Mounting volumes](#mount-volumes)\n",
    "    * [Setting paths](#container-path)\n",
    "    * [Fit by running the container](#fit-container)\n",
    "* [HPC & singularity ](#HPC)"
   ]
  },
  {
   "cell_type": "markdown",
   "id": "89e4de83",
   "metadata": {},
   "source": [
    "\n",
    "\n",
    "\n",
    "\n",
    "## Standard input format <a name=\"standard-input-format\"></a>\n",
    "\n",
    "In order to fully specify the PGAM model we need:\n",
    "\n",
    "1. A matrix containing the population spike counts (to be used as response variable and/or covariates)\n",
    "\n",
    "2. A matrix containing the task variables (additional covariates)\n",
    "\n",
    "3. A vector containing trial IDs\n",
    "\n",
    "4. A list of covariates to be included and the ID of the unit that we want to fit.\n",
    "\n",
    "5. The parameters defining a B-spline for each covariate (usually shared whithin a recording session or an entire experiment)\n",
    "    \n",
    "We propose the following standard input format to facilitate model specification, fitting and saving. \n",
    "\n",
    "### **Neural & behavioral inputs [1-4].** <a name=\"inputs\"></a>\n",
    "\n",
    "Inputs [1-4] will be contained in a single \".npz\" files with keys: \n",
    "\n",
    "- **counts**: numpy.array of dim (T x N), where T is the total number of time points, N is the number of neurons\n",
    "- **variables**: numpy.array of dim (T x M), T as above, M the number of task variables\n",
    "- **trial_id**: numpy.array of dim T, trial ids associated to each time point\n",
    "- **variable_names**: numpy.array of strings of dimension M, name of each covariate in 'variables'\n",
    "- **neu_names**: numpy.array of strings of dimension N, label uniquely identifying the neurons in 'counts'\n",
    "- **neu_info**: dict, *optional\n",
    "    neu_info[neu_names[k]]: dict, info about the k-th neuron, $k=0,\\dots,N-1$. keys are the information label.\n",
    "\n",
    "\n",
    "### **Configuration files [5]**<a name=\"configuration-files\"></a>\n",
    "\n",
    "Input [5], the configuration parameters for the B-spline, will be stored with the \"YAML\" file format. Python dict objects can be readily saved in YAML format.\n",
    "\n",
    "\n",
    "\n"
   ]
  },
  {
   "cell_type": "markdown",
   "id": "1f27b899",
   "metadata": {},
   "source": [
    "## Modelling synthetic data \n",
    "\n",
    "In the previous worksheet (Standardized_PGAM_1Simulation) we generated sample data from a neuron with known sensitivity to spatial and temporal inputs, as well as a configuration file that specifies how we're going to build the GAM.\n",
    "\n"
   ]
  },
  {
   "cell_type": "markdown",
   "id": "735465a3",
   "metadata": {},
   "source": [
    "### Load inputs, fit and postprocess <a name=\"load-fit-save\"></a>\n",
    "\n",
    " \n",
    "The code below: loads the input data, the configurations, fits the model, post-process and save the reuslts. The follwing lines of code are also saved as separate script in 'PGAM/utils/**fit_from_config.py**'"
   ]
  },
  {
   "cell_type": "code",
   "execution_count": 1,
   "id": "c1b54b90",
   "metadata": {},
   "outputs": [
    {
     "name": "stdout",
     "output_type": "stream",
     "text": [
      "path None do not exist\n",
      "user not uses cuda\n",
      "Module pycuda not found! Use CPU\n"
     ]
    }
   ],
   "source": [
    "from pathlib import Path\n",
    "import sys, os\n",
    "\n",
    "import matplotlib.pyplot as plt\n",
    "import numpy as np\n",
    "from scipy.io import savemat\n",
    "import statsmodels.api as sm\n",
    "import yaml\n",
    "\n",
    "sys.path.insert(0, str(Path.cwd().parent/'PGAM'/'src'))\n",
    "\n",
    "import GAM_library as gl\n",
    "import gam_data_handlers as gdh\n",
    "from post_processing import postprocess_results"
   ]
  },
  {
   "cell_type": "code",
   "execution_count": 2,
   "id": "ddffea57",
   "metadata": {},
   "outputs": [],
   "source": [
    "# Settings\n",
    "np.random.seed(4)\n",
    "\n",
    "# frac of the trials used for fit eval\n",
    "frac_eval = 0.2 \n",
    "\n",
    "# PATH to fit list\n",
    "path_fit_list = '/config/fit_B13_temporal.yml'"
   ]
  },
  {
   "cell_type": "markdown",
   "id": "af5ff181",
   "metadata": {},
   "source": [
    "#### Loading Data"
   ]
  },
  {
   "cell_type": "code",
   "execution_count": 3,
   "id": "6925b6aa",
   "metadata": {},
   "outputs": [],
   "source": [
    "# load the job id (either as an input form the command line, or as a default value if not passed)\n",
    "argv = sys.argv\n",
    "if len(argv) == 2: # assumes the script is run the command \"python fit_from_config.py fit_num\"\n",
    "    fit_num = int(sys.argv[1]) - 1 # HPC job-array indices starts from 1.\n",
    "else:\n",
    "    fit_num = 0 # set a default value"
   ]
  },
  {
   "cell_type": "code",
   "execution_count": 4,
   "id": "1fce2ffa",
   "metadata": {},
   "outputs": [
    {
     "name": "stdout",
     "output_type": "stream",
     "text": [
      "FIT INFO:\n",
      "EXP ID: exp_1\n",
      "SESSION ID: session_A\n",
      "NEURON NUM: 1\n",
      "INPUT DATA PATH: /input/temporal_pgam_B13_A25.npz\n",
      "CONFIG PATH: /config/config_temporal_B13_A25.yml\n",
      "\n",
      "\n"
     ]
    }
   ],
   "source": [
    "# load fit info about experiments to perform\n",
    "with open(path_fit_list, 'r') as stream:\n",
    "    fit_dict = yaml.safe_load(stream)\n",
    "    \n",
    "# unpack the info and load the data\n",
    "experiment_ID = fit_dict['experiment_ID'][fit_num]\n",
    "session_ID = fit_dict['session_ID'][fit_num]\n",
    "neuron_num = fit_dict['neuron_num'][fit_num]\n",
    "path_to_input = fit_dict['path_to_input'][fit_num]\n",
    "path_to_config = fit_dict['path_to_config'][fit_num]\n",
    "path_out = fit_dict['path_to_output'][fit_num]\n",
    "\n",
    "print('FIT INFO:\\nEXP ID: %s\\nSESSION ID: %s\\nNEURON NUM: %d\\nINPUT DATA PATH: %s\\nCONFIG PATH: %s\\n\\n'%(\n",
    "    experiment_ID,session_ID,neuron_num+1,path_to_input,path_to_config))"
   ]
  },
  {
   "cell_type": "code",
   "execution_count": 5,
   "id": "5cd394b3",
   "metadata": {},
   "outputs": [],
   "source": [
    "# Load & unpack spike counts and input variables that may be associated with spiking \n",
    "data = np.load(path_to_input, allow_pickle=True)\n",
    "\n",
    "counts = data['counts']\n",
    "variables = data['variables']\n",
    "variable_names = data['variable_names']\n",
    "neu_names = data['neu_names']\n",
    "trial_ids = data['trial_ids']\n",
    "\n",
    "if 'neu_info' in data.keys():\n",
    "    neu_info = data['neu_info'].all()\n",
    "else:\n",
    "    neu_info = {}\n",
    "    \n",
    "# Load configuration information about how to fit each variable in the loaded data\n",
    "with open(path_to_config, 'r') as stream:\n",
    "    config_dict = yaml.safe_load(stream)"
   ]
  },
  {
   "cell_type": "code",
   "execution_count": 6,
   "id": "8ed07f1a",
   "metadata": {},
   "outputs": [
    {
     "data": {
      "image/png": "[encoded data removed]",
      "text/plain": [
       "<Figure size 640x480 with 1 Axes>"
      ]
     },
     "metadata": {},
     "output_type": "display_data"
    }
   ],
   "source": [
    "##### Sanity check input data\n",
    "events = np.squeeze(variables[:, np.array(variable_names) == 'events'])\n",
    "ev_idx = np.where(events == 1)[0]\n",
    "\n",
    "n_bins = 100\n",
    "\n",
    "psth = np.zeros((len(ev_idx), n_bins))\n",
    "for i, ev in enumerate(ev_idx):\n",
    "    psth[i,:] = counts[ev-50:ev+50,0]\n",
    "\n",
    "plt.plot(psth.mean(axis=0))\n",
    "plt.show()"
   ]
  },
  {
   "cell_type": "markdown",
   "id": "ad0a278c",
   "metadata": {},
   "source": [
    "### Model Fitting\n",
    "\n",
    "First create a train / evaluation split for the data"
   ]
  },
  {
   "cell_type": "code",
   "execution_count": 7,
   "id": "a1b96181",
   "metadata": {},
   "outputs": [
    {
     "data": {
      "text/plain": [
       "0.8154468042808389"
      ]
     },
     "execution_count": 7,
     "metadata": {},
     "output_type": "execute_result"
    }
   ],
   "source": [
    "# create a train and eval set (approximately with the right frac of trials)\n",
    "train_trials = trial_ids % (np.round(1/frac_eval)) != 0\n",
    "eval_trials = ~train_trials\n",
    "\n",
    "train_trials.mean()"
   ]
  },
  {
   "cell_type": "markdown",
   "id": "80413649",
   "metadata": {},
   "source": [
    "Now create an object for handling the smooth functions associated with each variable"
   ]
  },
  {
   "cell_type": "code",
   "execution_count": 8,
   "id": "b3cf49db",
   "metadata": {},
   "outputs": [
    {
     "name": "stdout",
     "output_type": "stream",
     "text": [
      "adding events...\n",
      "adding neuron_A25...\n",
      "adding neuron_B13...\n"
     ]
    }
   ],
   "source": [
    "sm_handler = gdh.smooths_handler()\n",
    "\n",
    "for var in config_dict.keys():\n",
    "    print('adding %s...'%var)\n",
    "    \n",
    "    # check if var is a neuron or a variable\n",
    "    if var in variable_names:\n",
    "        x_var = np.squeeze(variables[:, np.array(variable_names) == var])\n",
    "    elif var in neu_names:\n",
    "        x_var = np.squeeze(counts[:, np.array(neu_names) == var])\n",
    "    else:\n",
    "        raise ValueError('Variable \"%s\" not found in the input data!'%var)\n",
    "    \n",
    "    knots = config_dict[var]['knots']\n",
    "    \n",
    "    if np.isscalar(knots):\n",
    "        knots = None\n",
    "    else:\n",
    "        knots = [np.array(knots)]\n",
    "\n",
    "    lam = config_dict[var]['lam']\n",
    "    der = config_dict[var]['der']\n",
    "    order = config_dict[var]['order']  \n",
    "    is_cyclic = config_dict[var]['is_cyclic']\n",
    "    knots_num = config_dict[var]['knots_num']\n",
    "    samp_period = config_dict[var]['samp_period']\n",
    "    penalty_type = config_dict[var]['penalty_type']\n",
    "    kernel_length = config_dict[var]['kernel_length']\n",
    "    kernel_direction = config_dict[var]['kernel_direction']\n",
    "    is_temporal_kernel = config_dict[var]['is_temporal_kernel']\n",
    "    \n",
    "    \n",
    "    # rename the variable as spike hist if the input is the spike counts of the neuron we are fitting\n",
    "    if var == neu_names[neuron_num]:\n",
    "        label = 'spike_hist'\n",
    "    else:\n",
    "        label = var\n",
    "    \n",
    "    sm_handler.add_smooth(label, [x_var], knots=knots, ord=order, is_temporal_kernel=is_temporal_kernel,\n",
    "                     trial_idx=trial_ids, is_cyclic=is_cyclic, penalty_type=penalty_type, der=der, lam=lam,\n",
    "                         knots_num=knots_num, kernel_length=kernel_length,kernel_direction=kernel_direction,\n",
    "                         time_bin=samp_period)"
   ]
  },
  {
   "cell_type": "markdown",
   "id": "200450a0",
   "metadata": {},
   "source": [
    "Now create the pgam model"
   ]
  },
  {
   "cell_type": "code",
   "execution_count": 9,
   "id": "0e8c50bc",
   "metadata": {},
   "outputs": [],
   "source": [
    "link = sm.genmod.families.links.log()\n",
    "poissFam = sm.genmod.families.family.Poisson(link=link)\n",
    "\n",
    "spk_counts = np.squeeze(counts[:, neuron_num])\n",
    "\n",
    "pgam = gl.general_additive_model(\n",
    "    sm_handler,\n",
    "    sm_handler.smooths_var, # list of coovarate we want to include in the model\n",
    "    spk_counts,             # vector of spike counts\n",
    "    poissFam                # poisson family with exponential link from statsmodels.api\n",
    ")"
   ]
  },
  {
   "cell_type": "markdown",
   "id": "d3fe1890",
   "metadata": {},
   "source": [
    "### Fitting"
   ]
  },
  {
   "cell_type": "code",
   "execution_count": 10,
   "id": "b4642a87",
   "metadata": {},
   "outputs": [
    {
     "name": "stdout",
     "output_type": "stream",
     "text": [
      "\n",
      "fitting neuron neuron_B13...\n",
      "\n"
     ]
    }
   ],
   "source": [
    "print('\\nfitting neuron %s...\\n'%neu_names[neuron_num])\n",
    "full, reduced = pgam.fit_full_and_reduced(sm_handler.smooths_var, \n",
    "                                          th_pval = 0.001,# pval for significance of covariate inclusion\n",
    "                                          max_iter = 10 ** 2, # max number of iteration\n",
    "                                          use_dgcv = True, # learn the smoothing penalties by dgcv\n",
    "                                          trial_num_vec = trial_ids,\n",
    "                                          filter_trials = train_trials)  "
   ]
  },
  {
   "cell_type": "markdown",
   "id": "4d89de51",
   "metadata": {},
   "source": [
    "#### Post-processing\n",
    "\n",
    "Each row of **res** contains the info about a variable; some information is shared for all the variables (p-r squared, for example is a goodness-of-fit measure for the overall model), while other, like the parameters of the b-splines, are variable specific."
   ]
  },
  {
   "cell_type": "code",
   "execution_count": 11,
   "id": "2ff87cd1",
   "metadata": {},
   "outputs": [
    {
     "name": "stdout",
     "output_type": "stream",
     "text": [
      "post-process fit results...\n",
      "processing:  events\n",
      "hstack: 0.3932570380275138 sec\n",
      "hstack: 0.26939303596736863 sec\n",
      "processing:  neuron_A25\n",
      "processing:  spike_hist\n"
     ]
    }
   ],
   "source": [
    "print('post-process fit results...')\n",
    "res = postprocess_results(\n",
    "    neu_names[neuron_num], \n",
    "    spk_counts, \n",
    "    full, \n",
    "    reduced, \n",
    "    train_trials,\n",
    "    sm_handler, \n",
    "    poissFam, \n",
    "    trial_ids, \n",
    "    var_zscore_par=None, \n",
    "    info_save=neu_info, \n",
    "    bins=100)"
   ]
  },
  {
   "cell_type": "markdown",
   "id": "f137a0c5",
   "metadata": {},
   "source": [
    "Let's take a more detailed look at the results object - a numpy structured array"
   ]
  },
  {
   "cell_type": "markdown",
   "id": "9d046fa3",
   "metadata": {},
   "source": [
    "#### Plot the results"
   ]
  },
  {
   "cell_type": "code",
   "execution_count": 12,
   "id": "60f64b0d",
   "metadata": {},
   "outputs": [
    {
     "data": {
      "image/png": "[encoded data removed]",
      "text/plain": [
       "<Figure size 800x400 with 6 Axes>"
      ]
     },
     "metadata": {},
     "output_type": "display_data"
    }
   ],
   "source": [
    "import matplotlib.pyplot as plt\n",
    "# plot tuning functions\n",
    "plt.figure(figsize=(8,4))\n",
    "\n",
    "nvars = len(res)\n",
    "\n",
    "for k in range(nvars):\n",
    "    plt.subplot(2,nvars,k+1)\n",
    "    plt.title('log-space %s'%res['variable'][k])\n",
    "    x_kernel = res['x_kernel'][k]\n",
    "    y_kernel = res['y_kernel'][k]\n",
    "    ypCI_kernel = res['y_kernel_pCI'][k]\n",
    "    ymCI_kernel = res['y_kernel_mCI'][k]\n",
    "    \n",
    "    plt.plot(x_kernel, y_kernel, color='r')\n",
    "    plt.fill_between(x_kernel, ymCI_kernel, ypCI_kernel, color='r', alpha=0.3)\n",
    "    \n",
    "    \n",
    "    \n",
    "    x_firing = res['x_rate_Hz'][k]\n",
    "    y_firing_model = res['model_rate_Hz'][k]\n",
    "    y_firing_raw = res['raw_rate_Hz'][k]\n",
    "    \n",
    "    plt.subplot(2,nvars,k+nvars+1)\n",
    "    plt.title('rate-space %s'%res['variable'][k])\n",
    "    \n",
    "    plt.plot(x_firing, y_firing_raw, color='k',label='raw')\n",
    "    plt.plot(x_firing, y_firing_model, color='r',label='model')\n",
    "    \n",
    "#     plt.legend()\n",
    "plt.tight_layout()"
   ]
  },
  {
   "cell_type": "code",
   "execution_count": null,
   "id": "8a21feb8",
   "metadata": {},
   "outputs": [],
   "source": [
    "psth_x = res['x_rate_Hz'][0]\n",
    "psth_mdl = res['model_rate_Hz'][0]\n",
    "psth_raw = res['raw_rate_Hz'][0]\n",
    "    \n",
    "\n",
    "output_name = 'A25_PSTH.npz'\n",
    "np.savez(Path('/output')/ output_name, \n",
    "         x=psth_x,\n",
    "        y_model = psth_mdl,\n",
    "        y_raw = psth_raw)"
   ]
  },
  {
   "cell_type": "code",
   "execution_count": null,
   "id": "993267f0",
   "metadata": {},
   "outputs": [],
   "source": [
    "output_name = 'A22_to_B09.npz'\n",
    "np.savez(Path('/output')/ output_name, \n",
    "         x=res['x_rate_Hz'][1],\n",
    "        y_model = res['model_rate_Hz'][1],\n",
    "        y_raw = res['raw_rate_Hz'][1])"
   ]
  },
  {
   "cell_type": "code",
   "execution_count": null,
   "id": "f62cd40a",
   "metadata": {},
   "outputs": [],
   "source": [
    "counts[ev-50:ev+50,0]"
   ]
  },
  {
   "cell_type": "markdown",
   "id": "df2657cf",
   "metadata": {},
   "source": [
    "##### Save the results\n",
    "\n",
    "File name format: save_name will be expID_sessionID_neuID_configName"
   ]
  },
  {
   "cell_type": "code",
   "execution_count": null,
   "id": "49559493",
   "metadata": {},
   "outputs": [],
   "source": [
    "config_basename = os.path.basename(path_to_config).split('.')[0]\n",
    "save_name = '%s_%s_%s_%s'%(experiment_ID, session_ID, neu_names[neuron_num], config_basename)\n",
    "\n",
    "\n",
    "np.savez(os.path.join(path_out, save_name+'.npz'), results=res)"
   ]
  },
  {
   "cell_type": "markdown",
   "id": "8cfd1d05",
   "metadata": {},
   "source": [
    "# Fit via docker <a name=\"docker\"></a>\n",
    "\n",
    "\n",
    "Start docker. Make sure that you have the PGAM docker image by listing all available imagegs with the terminal command,\n",
    "```sh\n",
    "    docker images\n",
    "```\n",
    "It should list a repository named edoardobalzani87/pgam, \n",
    "\n",
    "```\n",
    "REPOSITORY              TAG       IMAGE ID       CREATED          SIZE\n",
    "edoardobalzani87/pgam   1.0       052c7daf6ff7   19 minutes ago   4.64GB\n",
    "\n",
    "```\n",
    "\n",
    "### Running the container and mounting volumes <a name=\"mount-volumes\"></a>\n",
    "\n",
    "If you are running the PGAM image in a docker container for fitting the model you must specify which of the host folders (e.g. the folders of the operating system running the container) will be mounted as volumes by the container. This is a necessary step if the container needs to read from or write into the host file system. The syntax of the command is the following,\n",
    "\n",
    "```sh\n",
    "    docker run -v <path to local folder 1>:<path to image folder 1> \\\n",
    "               -v <path to local folder 2>:<path to image folder 2> \\\n",
    "               ...\n",
    "               -ti <docker image to be run> <command> -c \"<additional commands>\"\n",
    "```\n",
    "\n",
    "More specifically, mounting a folder means that: 1) when the container is started, the content of *\\<local folder i>* in the file system of the host will be copied in *\\<image folder i>* of the container temporary file system, 2) whenever the container writes in *\\<image folder i>*  (saving/deleting files or cerating/deleting directories), the same will be performed on the host  *\\<local folder i>*.  \n",
    "\n",
    "The docker image has a few folders that one may use to mount local folders:\n",
    "\n",
    "- **/input**: mount this container folder the host folder containing the input data and the fit list YAML file \n",
    "- **/output**: mount this container folder the host folder that will contain the output to be saved\n",
    "- **/config**: mount this container folder the host folder containing the config YAML file\n",
    "- **/scripts**: mount this container folder the host folder containing fitting script (fit_from_config.py)\n",
    "\n",
    "### Setting paths <a name=\"container-path\"></a>\n",
    "\n",
    "Make sure to edit the fit list YAML file replacing host folders with container folders, for example:\n",
    "\n",
    "```python\n",
    "fit_dict = {\n",
    "    'experiment_ID': ['exp_1'],\n",
    "    'session_ID': ['session_A'],\n",
    "    'neuron_num': [0],\n",
    "    'path_to_input': ['input/example_data.npz'],         # 'input/', 'config/', and 'output/' are the path \n",
    "    'path_to_config': ['config/config_example_data.yml'] # to the folder in the temp file system \n",
    "    'path_to_output': ['output/']                        # of the container\n",
    "}                                                        \n",
    "# save the yaml fit list\n",
    "with open('<path to local config folder>/fit_list_example_data.yml', 'w') as outfile:\n",
    "    yaml.dump(fit_dict, outfile, default_flow_style=False)\n",
    "\n",
    "```\n",
    "\n",
    "Similarly edit the fit script that will load the fit list YAML, pointing the \"config/\" folder of the container. In \"fit_from_config.py\" we would need to set appropriately the variable \"path_fit_list\",\n",
    "\n",
    "```python\n",
    "...\n",
    "#################################################\n",
    "# User defined input\n",
    "#################################################\n",
    "\n",
    "# frac of the trials used for fit eval\n",
    "frac_eval = 0.2 \n",
    "\n",
    "# PATH to fit list\n",
    "path_fit_list = 'input/fit_list_example_data.yml'\n",
    "...\n",
    "```\n",
    "\n",
    "### Fit by running the container <a name=\"fit-container\"></a>\n",
    "\n",
    "Enter the following command in the terminal to create and run the container,\n",
    "\n",
    "```sh\n",
    "docker run -v <path to host input>:/input \\\n",
    "           -v <path to host output>:/output \\\n",
    "           -v <path to host config>:/config \\\n",
    "           -v <path to host scripts>:/scripts \\\n",
    "           -ti edoardobalzani87/pgam:1.0 bin/bash -c \"python scripts/fit_from_config.py 0\"\n",
    "\n",
    "```\n",
    "\n",
    "Delete delete unused containers by listing all the container with the command\n",
    "\n",
    "```sh\n",
    "docker ps -a\n",
    "```\n",
    "\n",
    "which will produce something similar to,\n",
    "```sh\n",
    "CONTAINER ID   IMAGE                       COMMAND                  CREATED              STATUS                     \n",
    "3f3644b47861   edoardobalzani87/pgam:1.0   \"bin/bash -c 'python…\"   About a minute ago   Exited (0)\n",
    "```\n",
    "\n",
    "Reomve the container with,\n",
    "```sh\n",
    "docker rm <CONTAINER ID> \n",
    "```\n",
    "\n",
    "Fit results will be stored in \\<path to host output>."
   ]
  },
  {
   "cell_type": "markdown",
   "id": "25c07382",
   "metadata": {},
   "source": [
    "# HPC & singularity <a name=\"HPC\"></a>\n",
    "\n",
    "This method is currently tested on the NYU green HPC. \n"
   ]
  },
  {
   "cell_type": "code",
   "execution_count": null,
   "id": "acbc59ba",
   "metadata": {},
   "outputs": [],
   "source": []
  }
 ],
 "metadata": {
  "kernelspec": {
   "display_name": "Python 3 (ipykernel)",
   "language": "python",
   "name": "python3"
  },
  "language_info": {
   "codemirror_mode": {
    "name": "ipython",
    "version": 3
   },
   "file_extension": ".py",
   "mimetype": "text/x-python",
   "name": "python",
   "nbconvert_exporter": "python",
   "pygments_lexer": "ipython3",
   "version": "3.9.13"
  },
  "latex_envs": {
   "LaTeX_envs_menu_present": true,
   "autoclose": false,
   "autocomplete": true,
   "bibliofile": "biblio.bib",
   "cite_by": "apalike",
   "current_citInitial": 1,
   "eqLabelWithNumbers": true,
   "eqNumInitial": 1,
   "hotkeys": {
    "equation": "Ctrl-E",
    "itemize": "Ctrl-I"
   },
   "labels_anchors": false,
   "latex_user_defs": false,
   "report_style_numbering": false,
   "user_envs_cfg": false
  }
 },
 "nbformat": 4,
 "nbformat_minor": 5
}
